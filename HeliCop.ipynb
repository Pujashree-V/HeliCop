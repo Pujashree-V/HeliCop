{
  "nbformat": 4,
  "nbformat_minor": 0,
  "metadata": {
    "colab": {
      "provenance": []
    },
    "kernelspec": {
      "name": "python3",
      "display_name": "Python 3"
    },
    "language_info": {
      "name": "python"
    }
  },
  "cells": [
    {
      "cell_type": "code",
      "source": [
        "pip install pytesseract\n"
      ],
      "metadata": {
        "id": "qYdfM80gqF7a"
      },
      "execution_count": null,
      "outputs": []
    },
    {
      "cell_type": "code",
      "execution_count": null,
      "metadata": {
        "id": "sbTGxYkkpM0T"
      },
      "outputs": [],
      "source": [
        "import cv2\n",
        "import pytesseract\n",
        "\n",
        "# Initialize the video capture object\n",
        "cap = cv2.VideoCapture(0)\n",
        "\n",
        "while True:\n",
        "    # Read a frame from the video capture object\n",
        "    ret, frame = cap.read()\n",
        "    \n",
        "    # Convert the frame to grayscale\n",
        "    gray = cv2.cvtColor(frame, cv2.COLOR_BGR2GRAY)\n",
        "\n",
        "    # Apply thresholding to segment the foreground from the background\n",
        "    thresh = cv2.threshold(gray, 0, 255, cv2.THRESH_BINARY_INV + cv2.THRESH_OTSU)[1]\n",
        "\n",
        "    # Find contours in the image\n",
        "    contours, hierarchy = cv2.findContours(thresh, cv2.RETR_EXTERNAL, cv2.CHAIN_APPROX_SIMPLE)\n",
        "\n",
        "    # Iterate through each contour and filter for number plates and helmets\n",
        "    for cnt in contours:\n",
        "        # Compute the bounding box of the contour\n",
        "        x, y, w, h = cv2.boundingRect(cnt)\n",
        "\n",
        "        # Filter for number plates\n",
        "        if w/h > 2 and w/h < 5 and w > 100 and h > 30:\n",
        "            # Crop the number plate region\n",
        "            plate_roi = frame[y:y+h, x:x+w]\n",
        "\n",
        "            # Apply OCR using pytesseract library to extract the number plate text\n",
        "            plate_text = pytesseract.image_to_string(plate_roi, lang='eng', config='--psm 7')\n",
        "\n",
        "            # Print the number plate text\n",
        "            print(\"Number plate detected:\", plate_text)\n",
        "\n",
        "        # Filter for helmets\n",
        "        if w/h > 0.4 and w/h < 0.6 and w > 50 and h > 50:\n",
        "            # Draw a rectangle around the helmet\n",
        "            cv2.rectangle(frame, (x, y), (x+w, y+h), (0, 0, 255), 2)\n",
        "\n",
        "    # Display the frame with detected number plates and helmets\n",
        "    cv2.imshow(\"Detected plates and helmets\", frame)\n",
        "\n",
        "    # Exit the loop if the 'q' key is pressed\n",
        "    if cv2.waitKey(1) == ord('q'):\n",
        "        break\n",
        "\n",
        "# Release the video capture object and close all windows\n",
        "cap.release()\n",
        "cv2.destroyAllWindows()\n"
      ]
    }
  ]
}